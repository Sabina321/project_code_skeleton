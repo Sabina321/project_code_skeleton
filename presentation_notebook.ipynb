{
 "cells": [
  {
   "cell_type": "code",
   "execution_count": 6,
   "metadata": {
    "slideshow": {
     "slide_type": "skip"
    }
   },
   "outputs": [],
   "source": [
    "#Requirements\n",
    "import pandas as pd\n",
    "import cleaning_functions\n",
    "import matplotlib.pyplot as plt\n",
    "%matplotlib inline"
   ]
  },
  {
   "cell_type": "code",
   "execution_count": 7,
   "metadata": {
    "slideshow": {
     "slide_type": "skip"
    }
   },
   "outputs": [
    {
     "name": "stdout",
     "output_type": "stream",
     "text": [
      "Help on module cleaning_functions:\n",
      "\n",
      "NAME\n",
      "    cleaning_functions\n",
      "\n",
      "FUNCTIONS\n",
      "    extract_last_name(name_column)\n",
      "        ##returns the last name from the name column\n",
      "    \n",
      "    generate_central_plot(df)\n",
      "        ## returns a plot which shows survival rates by pclass\n",
      "        ## expects the titanic dataframe in pandas format\n",
      "\n",
      "DATA\n",
      "    __warningregistry__ = {'version': 28, ('Setting the datapath via matpl...\n",
      "\n",
      "FILE\n",
      "    /Users/stomkins/project_code_skeleton/cleaning_functions.py\n",
      "\n",
      "\n"
     ]
    }
   ],
   "source": [
    "help(cleaning_functions)"
   ]
  },
  {
   "cell_type": "markdown",
   "metadata": {
    "slideshow": {
     "slide_type": "slide"
    }
   },
   "source": [
    "## Problem Statement\n",
    "The Titanic was an ocean liner which sank on her maiden voyage in 1912. Kaggle has released a dataset of 891 passenger records from this journey. \n",
    " \n",
    "\n",
    "My goal with this notebook is to use to answer the question: *is class positively correlated with survival on the ship Titanic?*\n"
   ]
  },
  {
   "cell_type": "markdown",
   "metadata": {
    "slideshow": {
     "slide_type": "notes"
    }
   },
   "source": [
    "## Data\n",
    "\n",
    "To answer this question I will use a dataset from Kaggle called titanic \n",
    "(link here: [titanic dataset](https://www.kaggle.com/c/titanic)). I collected this by downloading the csv. The data is stored in a csv format. There are 891 rows and 12 columns. The total size of the file is 59 kB. "
   ]
  },
  {
   "cell_type": "markdown",
   "metadata": {
    "slideshow": {
     "slide_type": "slide"
    }
   },
   "source": [
    "<table><tr> <td> \n",
    "    <ul>\n",
    "<li>Survival</li>\n",
    "<li>Gender</li>\n",
    "<li>Age</li>\n",
    "<li>Class</li>\n",
    " </ul> \n",
    "  </td> \n",
    "  <td> \n",
    " <img src=\"data:image/jpeg;base64,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\" width=\"500\"/>\n",
    "</td> \n",
    "</tr>\n",
    "</table>\n",
    "\n"
   ]
  },
  {
   "cell_type": "code",
   "execution_count": 3,
   "metadata": {
    "slideshow": {
     "slide_type": "skip"
    }
   },
   "outputs": [
    {
     "data": {
      "text/plain": [
       "(891, 12)"
      ]
     },
     "execution_count": 3,
     "metadata": {},
     "output_type": "execute_result"
    }
   ],
   "source": [
    "titanic_df = pd.read_csv(\"titanic.csv\")\n",
    "titanic_df.shape"
   ]
  },
  {
   "cell_type": "markdown",
   "metadata": {
    "slideshow": {
     "slide_type": "skip"
    }
   },
   "source": [
    "## Data cleaning and manipulation\n",
    "\n",
    "To address my central question I did the following data cleaning steps:\n",
    "    ....\n",
    "    \n",
    "This are all contained in the file data_cleaning_functions.py. "
   ]
  },
  {
   "cell_type": "markdown",
   "metadata": {
    "slideshow": {
     "slide_type": "slide"
    }
   },
   "source": [
    "## Analysis\n",
    "\n",
    "To present my analysis I first consider a table of survival rates for each class. Here I can see that the proportion of passengers in the first class who survived is much higher than for the second and third classes. "
   ]
  },
  {
   "cell_type": "code",
   "execution_count": 8,
   "metadata": {
    "slideshow": {
     "slide_type": "slide"
    }
   },
   "outputs": [
    {
     "data": {
      "text/plain": [
       "Pclass\n",
       "1    0.629630\n",
       "2    0.472826\n",
       "3    0.242363\n",
       "Name: Survived, dtype: float64"
      ]
     },
     "execution_count": 8,
     "metadata": {},
     "output_type": "execute_result"
    }
   ],
   "source": [
    "table = titanic_df.groupby(\"Pclass\")[\"Survived\"].mean()\n",
    "table"
   ]
  },
  {
   "cell_type": "markdown",
   "metadata": {
    "slideshow": {
     "slide_type": "notes"
    }
   },
   "source": [
    "However, it is possible that this gap is not trustworthy if there is very little data in one of these classes. So I will also plot survival and include the size of the category in the plot. "
   ]
  },
  {
   "cell_type": "code",
   "execution_count": 9,
   "metadata": {
    "slideshow": {
     "slide_type": "slide"
    }
   },
   "outputs": [
    {
     "data": {
      "text/plain": [
       "<matplotlib.axes._subplots.AxesSubplot at 0x7fa9700f0c88>"
      ]
     },
     "execution_count": 9,
     "metadata": {},
     "output_type": "execute_result"
    },
    {
     "data": {
      "image/png": "[encoded data removed]",
      "text/plain": [
       "<Figure size 360x360 with 1 Axes>"
      ]
     },
     "metadata": {
      "needs_background": "light"
     },
     "output_type": "display_data"
    }
   ],
   "source": [
    "cleaning_functions.generate_central_plot(titanic_df)"
   ]
  },
  {
   "cell_type": "markdown",
   "metadata": {
    "slideshow": {
     "slide_type": "notes"
    }
   },
   "source": [
    "In the plot although we can see there is more data in the third class the amount of data in the first class is not so small that I am concerned. I do think there is a statistically valid relationship between class and survival. However, to be triple sure, I'll check the correlation coefficient between plcass and survival rate and check that it is statistically significant. "
   ]
  },
  {
   "cell_type": "code",
   "execution_count": 10,
   "metadata": {
    "slideshow": {
     "slide_type": "notes"
    }
   },
   "outputs": [],
   "source": [
    "from scipy.stats import pearsonr\n"
   ]
  },
  {
   "cell_type": "code",
   "execution_count": 11,
   "metadata": {
    "slideshow": {
     "slide_type": "slide"
    }
   },
   "outputs": [
    {
     "data": {
      "text/plain": [
       "(-0.9940243552271822, 0.06963122092061116)"
      ]
     },
     "execution_count": 11,
     "metadata": {},
     "output_type": "execute_result"
    }
   ],
   "source": [
    "pearsonr(table.index,table.values)"
   ]
  },
  {
   "cell_type": "markdown",
   "metadata": {
    "slideshow": {
     "slide_type": "slide"
    }
   },
   "source": [
    "Surprisingly, although the correlation coefficient is very strong negative, it is not statistically signifanct (probably because I only have three values and have lost all information about the size of the data). \n"
   ]
  },
  {
   "cell_type": "code",
   "execution_count": 12,
   "metadata": {
    "slideshow": {
     "slide_type": "slide"
    }
   },
   "outputs": [
    {
     "data": {
      "text/plain": [
       "(-0.3384810359610153, 2.537047387978631e-25)"
      ]
     },
     "execution_count": 12,
     "metadata": {},
     "output_type": "execute_result"
    }
   ],
   "source": [
    "pearsonr(titanic_df.Pclass,titanic_df.Survived)"
   ]
  },
  {
   "cell_type": "markdown",
   "metadata": {
    "slideshow": {
     "slide_type": "slide"
    }
   },
   "source": [
    "Now I see a weaker but much more significant relationship between the two variables. However, it the pearson correlation coefficient isn't really set up for this kind of comparison, so in future work I will use a better measure. "
   ]
  },
  {
   "cell_type": "markdown",
   "metadata": {
    "slideshow": {
     "slide_type": "slide"
    }
   },
   "source": [
    "## Take-aways\n",
    "For now, I am convinced that as class goes up from 3 -> 1 there is an increase in survival rates. While the relationship is strong and seems to be significant, I will test the significant levels more thoroughly in future work.  "
   ]
  },
  {
   "cell_type": "markdown",
   "metadata": {
    "slideshow": {
     "slide_type": "slide"
    }
   },
   "source": [
    "## References \n",
    "\n",
    "Include all references to sources for the code, sources for any packages or methods you used and a guide to all of the files you wrote and are including. "
   ]
  },
  {
   "cell_type": "markdown",
   "metadata": {
    "slideshow": {
     "slide_type": "skip"
    }
   },
   "source": [
    "### To display \n",
    "\n",
    "0. Download custom.css (from canvas) into the directory where your noteboook is\n",
    "1. Open up a new terminal\n",
    "2. Navigate to the directory where your notebook is \n",
    "3. Run this command ```jupyter nbconvert presentation_notebook.ipynb --to slides  --post serve```\n",
    "\n",
    "(Replace ```presentation_notebook.ipynb``` with the name of your notebook)\n"
   ]
  },
  {
   "cell_type": "markdown",
   "metadata": {
    "slideshow": {
     "slide_type": "skip"
    }
   },
   "source": [
    "### To convert to pdf\n",
    "\n",
    "1. In the browser window where your presentation is displayed after ```.html``` copy and paste\n",
    "```?print-pdf``` so that the url looks like this:\n",
    "    \n",
    "    ```http://127.0.0.1:8000/presentation_notebook.slides.html?print-pdf```\n",
    "            \n",
    "2. Select print on the page but instead of printing save as a pdf\n",
    "            "
   ]
  },
  {
   "cell_type": "markdown",
   "metadata": {
    "slideshow": {
     "slide_type": "skip"
    }
   },
   "source": [
    "### Next steps\n",
    "\n",
    "Customize css\n",
    "\n",
    "https://github.com/edouardfouche/kit-jupyter-slides-theme/blob/master/custom.css"
   ]
  },
  {
   "cell_type": "code",
   "execution_count": null,
   "metadata": {},
   "outputs": [],
   "source": []
  }
 ],
 "metadata": {
  "celltoolbar": "Slideshow",
  "kernelspec": {
   "display_name": "Python [conda env:py36] *",
   "language": "python",
   "name": "conda-env-py36-py"
  },
  "language_info": {
   "codemirror_mode": {
    "name": "ipython",
    "version": 3
   },
   "file_extension": ".py",
   "mimetype": "text/x-python",
   "name": "python",
   "nbconvert_exporter": "python",
   "pygments_lexer": "ipython3",
   "version": "3.6.10"
  }
 },
 "nbformat": 4,
 "nbformat_minor": 2
}
